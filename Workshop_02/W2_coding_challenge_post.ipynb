{
 "cells": [
  {
   "cell_type": "markdown",
   "metadata": {},
   "source": [
    "# `AA Workshop 2` — Coding Challenge (Solutions)\n",
    "\n",
    "Complete the tasks below to practice Python basics from `W2_Python_Basics.ipynb`.\n",
    "\n",
    "Guidelines:\n",
    "- Work in order. Run each cell after editing with Shift+Enter.\n",
    "- Keep answers short; focus on making things work.\n",
    "- If a step fails, read the error and fix it.\n",
    "\n",
    "By the end you will have exercised:\n",
    "- Basic data types and operations\n",
    "- Lists and dictionaries\n",
    "- Control flow (`if`, `for`)\n",
    "- Functions and docstrings"
   ]
  },
  {
   "cell_type": "markdown",
   "metadata": {},
   "source": [
    "## Task 1 - Programming a simple calculator"
   ]
  },
  {
   "cell_type": "markdown",
   "metadata": {},
   "source": [
    "To put your knowledge of basic Python to the test, write a properly documented function that performs a simple calculation with the following behaviour:\n",
    "\n",
    "1. Accept a mathematical operation (\"plus\", \"minus\", \"multiply\", \"divide\") and two numbers.\n",
    "2. Compute the result and return a formatted string as specified in the docstring.\n",
    "3. If the operation is not one of the four above, return the string \"Please correct your input\".\n",
    "\n",
    "You should use:\n",
    "- if/elif/else\n",
    "- functions and docstrings\n",
    "- basic mathematical expressions"
   ]
  },
  {
   "cell_type": "code",
   "execution_count": 5,
   "metadata": {},
   "outputs": [],
   "source": [
    "def simple_calc(first_num, ops, second_num):\n",
    "    \"\"\"\n",
    "    Perform a mathematical operation between two numbers\n",
    "    \n",
    "    Arguments\n",
    "    ---------\n",
    "    first_num     : int/float\n",
    "                    first number in calculation\n",
    "    ops           : str\n",
    "                    mathematical operation; ops=[\"plus\", \"minus\", \"multiply\", \"divide\"]\n",
    "    second_num    : int/float\n",
    "                    second number in calculation\n",
    "    \n",
    "    Returns\n",
    "    -------\n",
    "    result : str\n",
    "            Operation and results of operation as string\n",
    "    \"\"\"\n",
    "    # check numerical input\n",
    "    if type(first_num) != int and type(first_num) != float:\n",
    "        return print(\"Please provide numerical input for first_num\")\n",
    "\n",
    "    if type(second_num) != int and type(second_num) != float:\n",
    "        return print(\"Please provide numerical input for second_num\")\n",
    "    \n",
    "    # check if selected operation is in [\"plus\",\"minus\",\"multiply\",\"divide\"]\n",
    "    if ops not in [\"plus\",\"minus\",\"multiply\",\"divide\"]:\n",
    "        return \"Please correct your input\"\n",
    "    \n",
    "    # perform operation\n",
    "    if ops == \"plus\":\n",
    "        result = first_num + second_num\n",
    "        return f\"{first_num} + {second_num} = {result}\"\n",
    "    elif ops == \"minus\":\n",
    "        result = first_num - second_num\n",
    "        return f\"{first_num} - {second_num} = {result}\"\n",
    "    elif ops == \"multiply\":\n",
    "        result = first_num * second_num\n",
    "        return f\"{first_num} * {second_num} = {result}\"\n",
    "    elif ops == \"divide\":\n",
    "        if second_num == 0:\n",
    "            return \"Please correct your input\"\n",
    "        result = first_num / second_num\n",
    "        return f\"{first_num} / {second_num} = {result}\"\n",
    "   \n"
   ]
  },
  {
   "cell_type": "code",
   "execution_count": 6,
   "metadata": {},
   "outputs": [
    {
     "name": "stdout",
     "output_type": "stream",
     "text": [
      "3 + 4 = 7\n",
      "10 - 2 = 8\n",
      "6 * 7 = 42\n",
      "8 / 2 = 4.0\n"
     ]
    }
   ],
   "source": [
    "# try out your calculator by calling the simple_calc function with different argument values\n",
    "print(simple_calc(3, \"plus\", 4))\n",
    "print(simple_calc(10, \"minus\", 2))\n",
    "print(simple_calc(6, \"multiply\", 7))\n",
    "print(simple_calc(8, \"divide\", 2))"
   ]
  },
  {
   "cell_type": "code",
   "execution_count": 7,
   "metadata": {},
   "outputs": [
    {
     "name": "stdout",
     "output_type": "stream",
     "text": [
      "Task 1 passed (basic checks)\n"
     ]
    }
   ],
   "source": [
    "# checks (do not change)\n",
    "res = simple_calc(3, \"plus\", 4)\n",
    "assert isinstance(res, str) and \"7\" in res\n",
    "assert simple_calc(1, \"pow\", 2) == \"Please correct your input\"\n",
    "print(\"Task 1 passed (basic checks)\")"
   ]
  },
  {
   "cell_type": "markdown",
   "metadata": {},
   "source": [
    "## Task 2 — Palindrome checker"
   ]
  },
  {
   "cell_type": "markdown",
   "metadata": {},
   "source": [
    "Write a function `is_palindrome(s: str) -> bool` that returns True if `s` reads the same forwards and backwards."
   ]
  },
  {
   "cell_type": "code",
   "execution_count": null,
   "metadata": {},
   "outputs": [],
   "source": [
    "def is_palindrome(s: str) -> bool:\n",
    "    \"\"\"\n",
    "    Return True if s reads the same forwards and backwards.\n",
    "    \"\"\"\n",
    "    left = 0\n",
    "    right = len(s) - 1\n",
    "    while left < right:\n",
    "        if s[left] != s[right]:\n",
    "            return False\n",
    "        left += 1\n",
    "        right -= 1\n",
    "    return True"
   ]
  },
  {
   "cell_type": "code",
   "execution_count": null,
   "metadata": {},
   "outputs": [],
   "source": [
    "# checks (do not change)\n",
    "assert is_palindrome(\"racecar\") is True\n",
    "assert is_palindrome(\"level\") is True\n",
    "assert is_palindrome(\"Race car\") is False\n",
    "assert is_palindrome(\"python\") is False\n",
    "print(\"Task 2 passed (basic checks)\")"
   ]
  },
  {
   "cell_type": "markdown",
   "metadata": {},
   "source": [
    "## Task 3 — Lists and dictionaries"
   ]
  },
  {
   "cell_type": "markdown",
   "metadata": {},
   "source": [
    "Complete the small functions below using only core Python:\n",
    "- `square_evens(nums: list[int]) -> list[int]`: return a new list with the squares of all even numbers in `nums`.\n",
    "- `invert_dict(d: dict) -> dict`: return a new dictionary where keys and values are swapped."
   ]
  },
  {
   "cell_type": "code",
   "execution_count": null,
   "metadata": {},
   "outputs": [],
   "source": [
    "def square_evens(nums: list[int]) -> list[int]:\n",
    "    \"\"\"Return squares of even numbers in nums (keep order).\"\"\"\n",
    "    out = []\n",
    "    for n in nums:\n",
    "        if n % 2 == 0:\n",
    "            out.append(n * n)\n",
    "    return out\n",
    "\n",
    "\n",
    "def invert_dict(d: dict) -> dict:\n",
    "    \"\"\"Return a new dict with keys and values swapped.\"\"\"\n",
    "    inv = {}\n",
    "    for k, v in d.items():\n",
    "        inv[v] = k\n",
    "    return inv"
   ]
  },
  {
   "cell_type": "code",
   "execution_count": null,
   "metadata": {},
   "outputs": [],
   "source": [
    "# checks (do not change)\n",
    "assert square_evens([1,2,3,4,5,6]) == [4, 16, 36]\n",
    "assert square_evens([]) == []\n",
    "assert invert_dict({\"a\": 1, \"b\": 2}) == {1: \"a\", 2: \"b\"}\n",
    "print(\"Task 4 passed (basic checks)\")"
   ]
  },
  {
   "cell_type": "markdown",
   "metadata": {},
   "source": [
    "## Task 4 — FizzBuzz"
   ]
  },
  {
   "cell_type": "markdown",
   "metadata": {},
   "source": [
    "Write a function `fizzbuzz(n: int) -> list[str]` that returns a list of strings from 1 to `n` with the following rules:\n",
    "- If a number is divisible by 3, use \"Fizz\".\n",
    "- If divisible by 5, use \"Buzz\".\n",
    "- If divisible by both 3 and 5, use \"FizzBuzz\".\n",
    "- Otherwise, use the number itself as a string."
   ]
  },
  {
   "cell_type": "code",
   "execution_count": null,
   "metadata": {},
   "outputs": [],
   "source": [
    "def fizzbuzz(n: int) -> list[str]:\n",
    "    \"\"\"Return list of strings for 1..n following FizzBuzz rules.\"\"\"\n",
    "    out = []\n",
    "    for i in range(1, n+1):\n",
    "        if i % 15 == 0:\n",
    "            out.append(\"FizzBuzz\")\n",
    "        elif i % 3 == 0:\n",
    "            out.append(\"Fizz\")\n",
    "        elif i % 5 == 0:\n",
    "            out.append(\"Buzz\")\n",
    "        else:\n",
    "            out.append(str(i))\n",
    "    return out"
   ]
  },
  {
   "cell_type": "code",
   "execution_count": null,
   "metadata": {},
   "outputs": [],
   "source": [
    "# checks (do not change)\n",
    "assert fizzbuzz(5) == [\"1\", \"2\", \"Fizz\", \"4\", \"Buzz\"]\n",
    "assert fizzbuzz(15)[-1] == \"FizzBuzz\"\n",
    "print(\"Task 5 passed (basic checks)\")"
   ]
  }
 ],
 "metadata": {
  "kernelspec": {
   "display_name": "Python [conda env:AA_env]",
   "language": "python",
   "name": "conda-env-AA_env-py"
  },
  "language_info": {
   "codemirror_mode": {
    "name": "ipython",
    "version": 3
   },
   "file_extension": ".py",
   "mimetype": "text/x-python",
   "name": "python",
   "nbconvert_exporter": "python",
   "pygments_lexer": "ipython3",
   "version": "3.10.19"
  }
 },
 "nbformat": 4,
 "nbformat_minor": 4
}
