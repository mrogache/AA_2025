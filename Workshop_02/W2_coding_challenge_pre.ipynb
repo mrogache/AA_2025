{
 "cells": [
  {
   "cell_type": "markdown",
   "id": "9dc0ec06",
   "metadata": {},
   "source": [
    "# `AA Workshop 2` — Coding Challenge\n",
    "\n",
    "Complete the tasks below to practice Python basics from `W2_Python_Basics.ipynb`.\n",
    "\n",
    "Guidelines:\n",
    "- Work in order. Run each cell after editing with Shift+Enter.\n",
    "- Keep answers short; focus on making things work.\n",
    "- If a step fails, read the error and fix it.\n",
    "\n",
    "By the end you will have exercised:\n",
    "- Basic data types and operations\n",
    "- Lists and dictionaries\n",
    "- Control flow (`if`, `for`)\n",
    "- Functions and docstrings"
   ]
  },
  {
   "cell_type": "markdown",
   "id": "dc5336ee",
   "metadata": {},
   "source": [
    "## Task 1 - Programming a simple calculator"
   ]
  },
  {
   "cell_type": "markdown",
   "id": "19964223",
   "metadata": {
    "vscode": {
     "languageId": "plaintext"
    }
   },
   "source": [
    "To put your knowledge of basic Python to the test, write a properly documented python function that can perform the taks of a simple calculator with the following behaviour:\n",
    "\n",
    "1. The user shall pass the desired mathematical operation (plus, minus, divide, multiply) and two numbers\n",
    "\n",
    "2. The result shall be calculated and printed\n",
    "\n",
    "3. If the input for the mathematical operation is not covered by the list from above, print \"Please correct your input\"\n",
    "\n",
    "**You should use the following elements:** \n",
    "\n",
    "- If/elif/else statement\n",
    "- Functions\n",
    "- Mathematical expressions"
   ]
  },
  {
   "cell_type": "code",
   "execution_count": 6,
   "id": "3b9612ef",
   "metadata": {},
   "outputs": [
    {
     "ename": "IndentationError",
     "evalue": "unexpected indent (2858148817.py, line 23)",
     "output_type": "error",
     "traceback": [
      "\u001b[1;36m  Cell \u001b[1;32mIn[6], line 23\u001b[1;36m\u001b[0m\n\u001b[1;33m    if type(first_num) != int and type(first_num) != float:\u001b[0m\n\u001b[1;37m    ^\u001b[0m\n\u001b[1;31mIndentationError\u001b[0m\u001b[1;31m:\u001b[0m unexpected indent\n"
     ]
    }
   ],
   "source": [
    "def simple_calc(first_num, ops, second_num):\n",
    "    \"\"\"\n",
    "    Perform a mathematical operation between two numbers\n",
    "    ...\n",
    "    \n",
    "    Arguments\n",
    "    ---------\n",
    "    first_num     : int/float\n",
    "                    first number in calculation\n",
    "                    \n",
    "    ops           : str\n",
    "                    mathematical operation; ops=[\"plus\", \"minus\", \"multiply\", \"divide\"]\n",
    "    \n",
    "    second_num    : int/float\n",
    "                    second number in calculation\n",
    "    \n",
    "    Returns\n",
    "    -------\n",
    "    result : str\n",
    "            Operation and results of operation as string\n",
    "    \"\"\"\n",
    "    #### your code below ####\n",
    "     if type(first_num) != int and type(first_num) != float:\n",
    "        return print (\"Please provide numerical input for first_num\")\n",
    "         \n",
    "    if type(second_num) != int and type(second_num) != float:\n",
    "        return print (\"Please provide numerical input for second_num\")\n",
    "\n",
    "    if ops not in [\"plus\",\"minus\",\"multiply\",\"divide\"]:\n",
    "        return \"Please correct your input\"\n",
    "        \n",
    "    if ops == \"plus\":\n",
    "        result = first_num + second_num\n",
    "        return f\"{first_num} + {second_num} = {result}\"\n",
    "    elif ops == \"minus\":\n",
    "        result = first_num - second_num\n",
    "        return f\"{first_num} - {second_num} = {result}\"\n",
    "    elif ops == \"multiply\":\n",
    "        result = first_num * second_num\n",
    "        return f\"{first_num} * {second_num} = {result}\"\n",
    "    elif ops == \"divide\":\n",
    "        if second_num == 0:\n",
    "            return \"Please correct your input\"\n",
    "        result = first_num / second_num\n",
    "        return f\"{first_num} / {second_num} = {result}\"\n"
   ]
  },
  {
   "cell_type": "code",
   "execution_count": 2,
   "id": "7cf8126b",
   "metadata": {},
   "outputs": [
    {
     "name": "stdout",
     "output_type": "stream",
     "text": [
      "3 + 4 = 7\n",
      "10 - 2 = 8\n",
      "6 * 7 = 42\n",
      "8 / 2 = 4.0\n"
     ]
    }
   ],
   "source": [
    "# try out your calculator by calling the simple_calc function with different argument values\n",
    "print(simple_calc(3,\"plus\", 4))\n",
    "print(simple_calc(10, \"minus\", 2))\n",
    "print(simple_calc(6, \"multiply\",7))\n",
    "print(simple_calc(8, \"divide\", 2))\n"
   ]
  },
  {
   "cell_type": "code",
   "execution_count": 3,
   "id": "d0e72c4a",
   "metadata": {},
   "outputs": [
    {
     "ename": "AssertionError",
     "evalue": "",
     "output_type": "error",
     "traceback": [
      "\u001b[1;31m---------------------------------------------------------------------------\u001b[0m",
      "\u001b[1;31mAssertionError\u001b[0m                            Traceback (most recent call last)",
      "Cell \u001b[1;32mIn[3], line 4\u001b[0m\n\u001b[0;32m      2\u001b[0m res \u001b[38;5;241m=\u001b[39m simple_calc(\u001b[38;5;241m3\u001b[39m, \u001b[38;5;124m\"\u001b[39m\u001b[38;5;124mplus\u001b[39m\u001b[38;5;124m\"\u001b[39m, \u001b[38;5;241m4\u001b[39m)\n\u001b[0;32m      3\u001b[0m \u001b[38;5;28;01massert\u001b[39;00m \u001b[38;5;28misinstance\u001b[39m(res, \u001b[38;5;28mstr\u001b[39m) \u001b[38;5;129;01mand\u001b[39;00m \u001b[38;5;124m\"\u001b[39m\u001b[38;5;124m7\u001b[39m\u001b[38;5;124m\"\u001b[39m \u001b[38;5;129;01min\u001b[39;00m res\n\u001b[1;32m----> 4\u001b[0m \u001b[38;5;28;01massert\u001b[39;00m simple_calc(\u001b[38;5;241m1\u001b[39m, \u001b[38;5;124m\"\u001b[39m\u001b[38;5;124mpow\u001b[39m\u001b[38;5;124m\"\u001b[39m, \u001b[38;5;241m2\u001b[39m) \u001b[38;5;241m==\u001b[39m \u001b[38;5;124m\"\u001b[39m\u001b[38;5;124mPlease correct your input\u001b[39m\u001b[38;5;124m\"\u001b[39m\n\u001b[0;32m      5\u001b[0m \u001b[38;5;28mprint\u001b[39m(\u001b[38;5;124m\"\u001b[39m\u001b[38;5;124mTask 1 passed (basic checks)\u001b[39m\u001b[38;5;124m\"\u001b[39m)\n",
      "\u001b[1;31mAssertionError\u001b[0m: "
     ]
    }
   ],
   "source": [
    "# checks (do not change)\n",
    "res = simple_calc(3, \"plus\", 4)\n",
    "assert isinstance(res, str) and \"7\" in res\n",
    "assert simple_calc(1, \"pow\", 2) == \"Please correct your input\"\n",
    "print(\"Task 1 passed (basic checks)\")"
   ]
  },
  {
   "cell_type": "markdown",
   "id": "07070c45",
   "metadata": {},
   "source": [
    "## Task 2 — Palindrome checker"
   ]
  },
  {
   "cell_type": "markdown",
   "id": "1bf547a8",
   "metadata": {},
   "source": [
    "Write a function `is_palindrome(s: str) -> bool` that returns True if `s` reads the same forwards and backwards."
   ]
  },
  {
   "cell_type": "code",
   "execution_count": 43,
   "id": "8f0b3ed7",
   "metadata": {},
   "outputs": [],
   "source": [
    "def is_palindrome(s: str) -> bool:\n",
    "    \"\"\"\n",
    "    Return True if s reads the same forwards and backwards.\n",
    "    \"\"\"\n",
    "    # your code below\n",
    "    left = 0\n",
    "    right = len(s) - 1\n",
    "    while left < right:\n",
    "        if s[left] != s[right]:\n",
    "            return False\n",
    "        left += 1\n",
    "        right -= 1\n",
    "    return True\n",
    "\n"
   ]
  },
  {
   "cell_type": "code",
   "execution_count": 44,
   "id": "63eb2e92",
   "metadata": {},
   "outputs": [
    {
     "name": "stdout",
     "output_type": "stream",
     "text": [
      "Task 2 passed (basic checks)\n"
     ]
    }
   ],
   "source": [
    "# checks (do not change)\n",
    "assert is_palindrome(\"racecar\") is True\n",
    "assert is_palindrome(\"level\") is True\n",
    "assert is_palindrome(\"Race car\") is False\n",
    "assert is_palindrome(\"python\") is False\n",
    "print(\"Task 2 passed (basic checks)\")"
   ]
  },
  {
   "cell_type": "markdown",
   "id": "c59084c3",
   "metadata": {},
   "source": [
    "## Task 3 — Lists and dictionaries"
   ]
  },
  {
   "cell_type": "markdown",
   "id": "04480bc5",
   "metadata": {},
   "source": [
    "Complete the small functions below using only core Python:\n",
    "- `square_evens(nums: list[int]) -> list[int]`: return a new list with the squares of all even numbers in `nums`.\n",
    "- `invert_dict(d: dict) -> dict`: return a new dictionary where keys and values are swapped."
   ]
  },
  {
   "cell_type": "code",
   "execution_count": 56,
   "id": "1f757201",
   "metadata": {},
   "outputs": [],
   "source": [
    "def square_evens(nums: list[int]) -> list[int]:\n",
    "    \"\"\"Return squares of even numbers in nums (keep order).\"\"\"\n",
    "    # your code below\n",
    "    out = []\n",
    "    for n in nums:\n",
    "        if n % 2 == 0:\n",
    "            out.append(n * n)\n",
    "    return out\n",
    "    \n",
    "\n",
    "def invert_dict(d: dict) -> dict:\n",
    "    \"\"\"Return a new dict with keys and values swapped.\"\"\"\n",
    "    # your code below\n",
    "    inv = {}\n",
    "    for k, v in d.items():\n",
    "        inv[v] = k\n",
    "    return inv\n",
    "\n"
   ]
  },
  {
   "cell_type": "code",
   "execution_count": 57,
   "id": "624d35cc",
   "metadata": {},
   "outputs": [
    {
     "name": "stdout",
     "output_type": "stream",
     "text": [
      "Task 4 passed (basic checks)\n"
     ]
    }
   ],
   "source": [
    "# checks (do not change)\n",
    "assert square_evens([1,2,3,4,5,6]) == [4, 16, 36]\n",
    "assert square_evens([]) == []\n",
    "assert invert_dict({\"a\": 1, \"b\": 2}) == {1: \"a\", 2: \"b\"}\n",
    "print(\"Task 4 passed (basic checks)\")"
   ]
  },
  {
   "cell_type": "markdown",
   "id": "4c6635df",
   "metadata": {},
   "source": [
    "## Task 4 — FizzBuzz"
   ]
  },
  {
   "cell_type": "markdown",
   "id": "5a50697f",
   "metadata": {},
   "source": [
    "Write a function `fizzbuzz(n: int) -> list[str]` that returns a list of strings from 1 to `n` with the following rules:\n",
    "- If a number is divisible by 3, use \"Fizz\".\n",
    "- If divisible by 5, use \"Buzz\".\n",
    "- If divisible by both 3 and 5, use \"FizzBuzz\".\n",
    "- Otherwise, use the number itself as a string."
   ]
  },
  {
   "cell_type": "code",
   "execution_count": 60,
   "id": "080dfeac",
   "metadata": {},
   "outputs": [],
   "source": [
    "def fizzbuzz(n: int) -> list[str]:\n",
    "    \"\"\"Return list of strings for 1..n following FizzBuzz rules.\"\"\"\n",
    "    # your code below\n",
    "    out = []\n",
    "    for i in range(1, n+1):\n",
    "        if i % 15 == 0:\n",
    "            out.append(\"FizzBuzz\")\n",
    "        elif i % 3 == 0:\n",
    "            out.append(\"Fizz\")\n",
    "        elif i % 5 == 0:\n",
    "            out.append(\"Buzz\")\n",
    "        else:\n",
    "            out.append(str(i))\n",
    "    return out\n",
    "\n"
   ]
  },
  {
   "cell_type": "code",
   "execution_count": 61,
   "id": "a25a3793",
   "metadata": {},
   "outputs": [
    {
     "name": "stdout",
     "output_type": "stream",
     "text": [
      "Task 5 passed (basic checks)\n"
     ]
    }
   ],
   "source": [
    "# checks (do not change)\n",
    "assert fizzbuzz(5) == [\"1\", \"2\", \"Fizz\", \"4\", \"Buzz\"]\n",
    "assert fizzbuzz(15)[-1] == \"FizzBuzz\"\n",
    "print(\"Task 5 passed (basic checks)\")"
   ]
  },
  {
   "cell_type": "code",
   "execution_count": null,
   "id": "c43ffdf5-3afa-4c56-a7ed-2f70b2547cc1",
   "metadata": {},
   "outputs": [],
   "source": []
  }
 ],
 "metadata": {
  "kernelspec": {
   "display_name": "Python 3 (ipykernel)",
   "language": "python",
   "name": "python3"
  },
  "language_info": {
   "codemirror_mode": {
    "name": "ipython",
    "version": 3
   },
   "file_extension": ".py",
   "mimetype": "text/x-python",
   "name": "python",
   "nbconvert_exporter": "python",
   "pygments_lexer": "ipython3",
   "version": "3.10.19"
  }
 },
 "nbformat": 4,
 "nbformat_minor": 5
}
