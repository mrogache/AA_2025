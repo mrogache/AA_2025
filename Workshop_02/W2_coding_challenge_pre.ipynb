{
 "cells": [
  {
   "cell_type": "markdown",
   "id": "9dc0ec06",
   "metadata": {},
   "source": [
    "# `AA Workshop 2` — Coding Challenge\n",
    "\n",
    "Complete the tasks below to practice Python basics from `W2_Python_Basics.ipynb`.\n",
    "\n",
    "Guidelines:\n",
    "- Work in order. Run each cell after editing with Shift+Enter.\n",
    "- Keep answers short; focus on making things work.\n",
    "- If a step fails, read the error and fix it.\n",
    "\n",
    "By the end you will have exercised:\n",
    "- Basic data types and operations\n",
    "- Lists and dictionaries\n",
    "- Control flow (`if`, `for`)\n",
    "- Functions and docstrings"
   ]
  },
  {
   "cell_type": "markdown",
   "id": "dc5336ee",
   "metadata": {},
   "source": [
    "## Task 1 - Programming a simple calculator"
   ]
  },
  {
   "cell_type": "markdown",
   "id": "19964223",
   "metadata": {
    "vscode": {
     "languageId": "plaintext"
    }
   },
   "source": [
    "To put your knowledge of basic Python to the test, write a properly documented python function that can perform the taks of a simple calculator with the following behaviour:\n",
    "\n",
    "1. The user shall pass the desired mathematical operation (plus, minus, divide, multiply) and two numbers\n",
    "\n",
    "2. The result shall be calculated and printed\n",
    "\n",
    "3. If the input for the mathematical operation is not covered by the list from above, print \"Please correct your input\"\n",
    "\n",
    "**You should use the following elements:** \n",
    "\n",
    "- If/elif/else statement\n",
    "- Functions\n",
    "- Mathematical expressions"
   ]
  },
  {
   "cell_type": "code",
   "execution_count": null,
   "id": "3b9612ef",
   "metadata": {},
   "outputs": [],
   "source": [
    "def simple_calc(first_num, ops, second_num):\n",
    "    \"\"\"\n",
    "    Perform a mathematical operation between two numbers\n",
    "    ...\n",
    "    \n",
    "    Arguments\n",
    "    ---------\n",
    "    first_num     : int/float\n",
    "                    first number in calculation\n",
    "                    \n",
    "    ops           : str\n",
    "                    mathematical operation; ops=[\"plus\", \"minus\", \"multiply\", \"divide\"]\n",
    "    \n",
    "    second_num    : int/float\n",
    "                    second number in calculation\n",
    "    \n",
    "    Returns\n",
    "    -------\n",
    "    result : str\n",
    "            Operation and results of operation as string\n",
    "    \"\"\"\n",
    "    #### your code below ####\n",
    "    \n",
    "\n",
    "    "
   ]
  },
  {
   "cell_type": "code",
   "execution_count": null,
   "id": "7cf8126b",
   "metadata": {},
   "outputs": [],
   "source": [
    "# try out your calculator by calling the simple_calc function with different argument values\n"
   ]
  },
  {
   "cell_type": "code",
   "execution_count": null,
   "metadata": {},
   "outputs": [],
   "source": [
    "# checks (do not change)\n",
    "res = simple_calc(3, \"plus\", 4)\n",
    "assert isinstance(res, str) and \"7\" in res\n",
    "assert simple_calc(1, \"pow\", 2) == \"Please correct your input\"\n",
    "print(\"Task 1 passed (basic checks)\")"
   ]
  },
  {
   "cell_type": "markdown",
   "id": "07070c45",
   "metadata": {},
   "source": [
    "## Task 2 — Palindrome checker"
   ]
  },
  {
   "cell_type": "markdown",
   "id": "1bf547a8",
   "metadata": {},
   "source": [
    "Write a function `is_palindrome(s: str) -> bool` that returns True if `s` reads the same forwards and backwards."
   ]
  },
  {
   "cell_type": "code",
   "execution_count": null,
   "metadata": {},
   "outputs": [],
   "source": [
    "def is_palindrome(s: str) -> bool:\n",
    "    \"\"\"\n",
    "    Return True if s reads the same forwards and backwards.\n",
    "    \"\"\"\n",
    "    # your code below\n",
    "    \n",
    "\n"
   ]
  },
  {
   "cell_type": "code",
   "execution_count": null,
   "metadata": {},
   "outputs": [],
   "source": [
    "# checks (do not change)\n",
    "assert is_palindrome(\"racecar\") is True\n",
    "assert is_palindrome(\"level\") is True\n",
    "assert is_palindrome(\"Race car\") is False\n",
    "assert is_palindrome(\"python\") is False\n",
    "print(\"Task 2 passed (basic checks)\")"
   ]
  },
  {
   "cell_type": "markdown",
   "id": "c59084c3",
   "metadata": {},
   "source": [
    "## Task 3 — Lists and dictionaries"
   ]
  },
  {
   "cell_type": "markdown",
   "id": "04480bc5",
   "metadata": {},
   "source": [
    "Complete the small functions below using only core Python:\n",
    "- `square_evens(nums: list[int]) -> list[int]`: return a new list with the squares of all even numbers in `nums`.\n",
    "- `invert_dict(d: dict) -> dict`: return a new dictionary where keys and values are swapped."
   ]
  },
  {
   "cell_type": "code",
   "execution_count": null,
   "metadata": {},
   "outputs": [],
   "source": [
    "def square_evens(nums: list[int]) -> list[int]:\n",
    "    \"\"\"Return squares of even numbers in nums (keep order).\"\"\"\n",
    "    # your code below\n",
    "    \n",
    "\n",
    "def invert_dict(d: dict) -> dict:\n",
    "    \"\"\"Return a new dict with keys and values swapped.\"\"\"\n",
    "    # your code below\n",
    "    \n",
    "\n"
   ]
  },
  {
   "cell_type": "code",
   "execution_count": null,
   "metadata": {},
   "outputs": [],
   "source": [
    "# checks (do not change)\n",
    "assert square_evens([1,2,3,4,5,6]) == [4, 16, 36]\n",
    "assert square_evens([]) == []\n",
    "assert invert_dict({\"a\": 1, \"b\": 2}) == {1: \"a\", 2: \"b\"}\n",
    "print(\"Task 4 passed (basic checks)\")"
   ]
  },
  {
   "cell_type": "markdown",
   "id": "4c6635df",
   "metadata": {},
   "source": [
    "## Task 4 — FizzBuzz"
   ]
  },
  {
   "cell_type": "markdown",
   "id": "5a50697f",
   "metadata": {},
   "source": [
    "Write a function `fizzbuzz(n: int) -> list[str]` that returns a list of strings from 1 to `n` with the following rules:\n",
    "- If a number is divisible by 3, use \"Fizz\".\n",
    "- If divisible by 5, use \"Buzz\".\n",
    "- If divisible by both 3 and 5, use \"FizzBuzz\".\n",
    "- Otherwise, use the number itself as a string."
   ]
  },
  {
   "cell_type": "code",
   "execution_count": null,
   "metadata": {},
   "outputs": [],
   "source": [
    "def fizzbuzz(n: int) -> list[str]:\n",
    "    \"\"\"Return list of strings for 1..n following FizzBuzz rules.\"\"\"\n",
    "    # your code below\n",
    "    \n",
    "\n"
   ]
  },
  {
   "cell_type": "code",
   "execution_count": null,
   "metadata": {},
   "outputs": [],
   "source": [
    "# checks (do not change)\n",
    "assert fizzbuzz(5) == [\"1\", \"2\", \"Fizz\", \"4\", \"Buzz\"]\n",
    "assert fizzbuzz(15)[-1] == \"FizzBuzz\"\n",
    "print(\"Task 5 passed (basic checks)\")"
   ]
  }
 ],
 "metadata": {
  "kernelspec": {
   "display_name": "AA_env",
   "language": "python",
   "name": "python3"
  },
  "language_info": {
   "codemirror_mode": {
    "name": "ipython",
    "version": 3
   },
   "file_extension": ".py",
   "mimetype": "text/x-python",
   "name": "python",
   "nbconvert_exporter": "python",
   "pygments_lexer": "ipython3",
   "version": "3.10.18"
  }
 },
 "nbformat": 4,
 "nbformat_minor": 5
}
