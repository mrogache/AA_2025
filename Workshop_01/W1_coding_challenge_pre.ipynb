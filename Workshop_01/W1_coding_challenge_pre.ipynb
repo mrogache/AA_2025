{
  "cells": [
    {
      "cell_type": "markdown",
      "metadata": {},
      "source": [
        "# `AA Workshop 1` — Coding Challenge\n",
        "\n",
        "Complete the tasks below to confirm your setup based on `Setup/setup.ipynb`.\n",
        "\n",
        "Guidelines:\n",
        "- Work in order. Run each cell after editing with Shift+Enter.\n",
        "- Keep answers short; focus on making things work.\n",
        "- If a step fails, read the error and fix it.\n",
        "\n",
        "By the end you will have:\n",
        "- Created and selected the course conda environment from `environment.yml`\n",
        "- Verified your Python installation and kernel selection\n",
        "- Completed your first steps working in a Jupyter notebook."
      ]
    },
    {
      "cell_type": "markdown",
      "metadata": {},
      "source": [
        "## Task 1 — Understand conda environments & set up course environment"
      ]
    },
    {
      "cell_type": "markdown",
      "metadata": {},
      "source": [
        "A virtual environment is a tool you can use to isolate projects and manage dependencies. Virtual environments allow you to install and use packages only for a particular project. You can easily share virtual environments, ensuring that all members in a project team are working with the same tools and versions.\n",
        "\n",
        "### Activating and deactivating an environment\n",
        "Your default (\"global\") environment is called `base`. Once you open a terminal, you should see `(base)` at the very beginning of the first line, indicating that you are currently using the default environment. You can deactivate the current environment by typing the following command:\n",
        "```\n",
        "conda deactivate\n",
        "```\n",
        "You should see that the `(base)` at the beginning disappears. Similarly, you can activate the base environment again using:\n",
        "```\n",
        "conda activate base\n",
        "```\n",
        "Remember, you can only use the packages you installed when the respective environment is activated.\n",
        "\n",
        "### Creating an environment\n",
        "When we asked you to install or update packages, you installed these packages (e.g. numpy) in your base environment. However, you might want to create a designated environment for AA (and we highly encourage you to do this to get used to working with environments). Let's create an environment called `TEST_env` by typing the following command in your terminal:\n",
        "```\n",
        "conda create --name TEST_env\n",
        "```\n",
        "You might be asked to confirm where the new environment will be stored (y/n?) by typing `y` and confirm with enter.\n",
        "We can activate our new environment as learned before:\n",
        "```\n",
        "conda activate TEST_env\n",
        "```\n",
        "You can check whether you are using the new environment by confirming that `(TEST_env)` is shown at the beginning of the line in your Terminal.\n",
        "\n",
        "After activating the environment, you can install packages in it using the commands as seen before (`conda install ...`).\n",
        "You can get a list of all environments that you have available by typing:\n",
        "```\n",
        "conda env list\n",
        "```\n",
        "\n",
        "And once you have an environment activated, you can check which packages are installed within it by typing:\n",
        "```\n",
        "conda list\n",
        "```\n",
        "\n",
        "You can remove environments (including all packages within it) by typing:\n",
        "```\n",
        "conda remove --name TEST_env --all\n",
        "```\n",
        "\n",
        "### Creating an environment from a .yml file\n",
        "In the beginning, we said that environments are particularly useful because you can make them available to others, enabling you to collaborate on the same project using the same packages.\n",
        "\n",
        "To share an environment with others, you can export it to a file that you can then share with your team mates. To do so, activate your environment (`conda activate TEST_env`) and export it by typing `conda env export --from-history > environment.yml`. If you check our AA 2025 repository, you will notice that there already is such a file, specifying all packages we need throughout the course. You can now easily re-create this environment called AA_env on your local machine like this:\n",
        "1. Replace *\\<specify path\\>* to the path where conda saves environments on your local machine (you can check this by, for example, typing `conda env list` and checking the paths shown behind your existing environments.)\n",
        "2. Open up a terminal, navigate to the local repository folder (which also contains the environment.yml file), and type:\n",
        "```\n",
        "conda env create -f environment.yml\n",
        "```\n",
        "\n",
        "After creating the environment, you can activate it as before using `conda activate AA_env`.\n",
        "If we want to update an environment by, for example, installing a new package, we can simply add it to the environment.yml file and run `conda env update --file environment.yml --prune` to update our environment locally."
      ]
    },
    {
      "cell_type": "markdown",
      "metadata": {},
      "source": [
        "**I have provided you with an `environment.yml` file in the AA repository. Create the environment on your local machine. Then, activate it and open this notebook. With the notebook open, ensure the selected kernel corresponds to `AA_env`. Then execute the following cell.**"
      ]
    },
    {
      "cell_type": "code",
      "execution_count": null,
      "metadata": {},
      "outputs": [],
      "source": [
        "# Do not modify this cell\n",
        "import sys, os\n",
        "print(\"Python:\", sys.version.split()[0])\n",
        "print(\"Conda Prefix:\", os.environ.get(\"CONDA_DEFAULT_ENV\", \"<unknown>\"))"
      ]
    },
    {
      "cell_type": "markdown",
      "metadata": {},
      "source": [
        "If you completed the task successfully, the cell output should show the Python version and the correct conda environment name, i.e. `AA_env`."
      ]
    },
    {
      "cell_type": "markdown",
      "metadata": {},
      "source": [
        "## Task 2 — Working in a notebook\n",
        "\n",
        "Edit and execute the cell below."
      ]
    },
    {
      "cell_type": "code",
      "execution_count": 4,
      "metadata": {},
      "outputs": [],
      "source": [
        "# Your code below\n",
        "first_name = \"Michael\"\n",
        "last_name = \"Rogachevsky\"\n",
        "year = 2025  # replace with the current year as an integer"
      ]
    },
    {
      "cell_type": "markdown",
      "metadata": {},
      "source": [
        "Create the variable `full_name`, consisting of your first and last name separated by a space. Then, create the variable `next_year`. You are only allowed to use your previously specified variables as well as quotation marks, numbers, spaces, and plus (+)."
      ]
    },
    {
      "cell_type": "code",
      "execution_count": 5,
      "metadata": {},
      "outputs": [],
      "source": [
        "# Your code below\n",
        "full_name = first_name + \" \" + last_name\n",
        "next_year = year + 1"
      ]
    },
    {
      "cell_type": "markdown",
      "metadata": {},
      "source": [
        "Check your solution by executing the cell below."
      ]
    },
    {
      "cell_type": "code",
      "execution_count": 6,
      "metadata": {},
      "outputs": [
        {
          "name": "stdout",
          "output_type": "stream",
          "text": [
            "Full name: Michael Rogachevsky\n",
            "Next year: 2026\n",
            "\n",
            "Task 2 passed!\n"
          ]
        }
      ],
      "source": [
        "print(\"Full name: \" + full_name)\n",
        "print(\"Next year: \" + str(next_year))\n",
        "\n",
        "# checks (do not change)\n",
        "import datetime\n",
        "assert isinstance(first_name, str) and first_name != \"\"\n",
        "assert isinstance(last_name, str) and last_name != \"\"\n",
        "assert year == datetime.datetime.now().year\n",
        "assert \" \" in full_name\n",
        "assert full_name.count(\" \") == 1\n",
        "assert full_name.startswith(first_name)\n",
        "assert full_name.endswith(last_name)\n",
        "assert len(full_name) == len(first_name) + 1 + len(last_name)\n",
        "assert isinstance(next_year, int)\n",
        "assert (next_year - year) == 1\n",
        "print(\"\\nTask 2 passed!\")"
      ]
    }
  ],
  "metadata": {
    "kernelspec": {
      "display_name": "AA_env",
      "language": "python",
      "name": "python3"
    },
    "language_info": {
      "codemirror_mode": {
        "name": "ipython",
        "version": 3
      },
      "file_extension": ".py",
      "mimetype": "text/x-python",
      "name": "python",
      "nbconvert_exporter": "python",
      "pygments_lexer": "ipython3",
      "version": "3.10.18"
    }
  },
  "nbformat": 4,
  "nbformat_minor": 2
}
